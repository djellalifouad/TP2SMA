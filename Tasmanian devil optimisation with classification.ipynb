{
 "cells": [
  {
   "cell_type": "code",
   "execution_count": 18,
   "metadata": {
    "collapsed": true
   },
   "outputs": [],
   "source": [
    "import pandas as pd\n",
    "import random\n",
    "import  numpy as np\n",
    "T =  100\n",
    "# Nombre de tasmanian\n",
    "N = 60\n",
    "m = 11"
   ]
  },
  {
   "cell_type": "code",
   "execution_count": 19,
   "outputs": [],
   "source": [
    "data = pd.read_excel('./train.xlsx',)\n",
    "dataTrue = data.query(\"fake == 1\").to_numpy()\n",
    "dataFalse = data.query(\"fake == 0\").to_numpy()\n",
    "dataTrue = np.array(dataTrue)\n",
    "dataTrueSet =  []\n",
    "dataFalseSet =  []\n",
    "for i in range(len(dataTrue)):\n",
    "    empty =  []\n",
    "    for j in range(len(dataTrue[i])-1):\n",
    "     empty.append(dataTrue[i][j])\n",
    "    dataTrueSet.append(empty)\n",
    "for i in range(len(dataFalse)):\n",
    "    empty =  []\n",
    "    for j in range(len(dataFalse[i])-1):\n",
    "      empty.append(dataFalse[i][j])\n",
    "    dataFalseSet.append(empty)"
   ],
   "metadata": {
    "collapsed": false
   }
  },
  {
   "cell_type": "code",
   "execution_count": 20,
   "outputs": [],
   "source": [
    "#Discrétisation"
   ],
   "metadata": {
    "collapsed": false
   }
  },
  {
   "cell_type": "code",
   "execution_count": 21,
   "outputs": [],
   "source": [
    "X1 = np.zeros((N, m))\n",
    "X2 = np.zeros((N,m))"
   ],
   "metadata": {
    "collapsed": false
   }
  },
  {
   "cell_type": "code",
   "execution_count": 22,
   "outputs": [],
   "source": [
    "for i in range(N):\n",
    "    for j in range(m):\n",
    "        X1[i][j] =dataTrueSet[i][j]\n",
    "        X2[i][j] =dataFalseSet[i][j]"
   ],
   "metadata": {
    "collapsed": false
   }
  },
  {
   "cell_type": "code",
   "execution_count": 23,
   "outputs": [],
   "source": [
    "for i in range(len(X1)):\n",
    "    X1[i]=np.digitize(X1[i],bins=[4])\n",
    "    X2[i]=np.digitize(X2[i],bins=[4])"
   ],
   "metadata": {
    "collapsed": false
   }
  },
  {
   "cell_type": "code",
   "execution_count": 24,
   "outputs": [],
   "source": [
    "def objectiveFunction(X):\n",
    "    result = 0\n",
    "    for i in range(m-1):\n",
    "        result += X[i]**2\n",
    "    return result"
   ],
   "metadata": {
    "collapsed": false
   }
  },
  {
   "cell_type": "code",
   "execution_count": 25,
   "outputs": [],
   "source": [
    "for t in range(T):\n",
    "    for i in range(N):\n",
    "        Pr = random.uniform(0,1)\n",
    "        if(Pr < 0.5):\n",
    "         #EQ3Début\n",
    "         k = random.randint(0,N-1)\n",
    "         while k == i:\n",
    "             k = random.randint(0,N-1)\n",
    "         ci = X1[k]\n",
    "         #EQ\n",
    "        #EQ4Début\n",
    "         XijNew = []\n",
    "         for j in range(m):\n",
    "             XijNew.append(X1[i][j])\n",
    "         for j in range(m):\n",
    "             if(objectiveFunction(ci) < objectiveFunction(XijNew)):\n",
    "                 I = random.randint(1,2)\n",
    "                 XijNew[j] = XijNew[j]+ random.uniform(0,1) *(ci[j] - I *XijNew[j])\n",
    "             else:\n",
    "                 XijNew[j] = XijNew[j]+ random.uniform(0,1) *(ci[j] -XijNew[j])\n",
    "        #EQ4FIN\n",
    "        #EQ5Début\n",
    "        if(objectiveFunction(XijNew) < objectiveFunction(X1[i])):\n",
    "            X1[i] =XijNew\n",
    "        else:\n",
    "         #EQ6Début\n",
    "         k = random.randint(0,N-1)\n",
    "         while k == i:\n",
    "          k = random.randint(0,N-1)\n",
    "         pi = X1[k]\n",
    "         XijNew = []\n",
    "         #EQ7Début\n",
    "         for j in range(m):\n",
    "             XijNew.append(X1[i][j])\n",
    "         for j in range(m):\n",
    "             if(objectiveFunction(pi) < objectiveFunction(XijNew)):\n",
    "                 I = random.randint(1,2)\n",
    "                 XijNew[j] = XijNew[j]+ random.uniform(0,1) *(pi[j] - I *XijNew[j])\n",
    "             else:\n",
    "                 XijNew[j] = XijNew[j]+ random.uniform(0,1) *(pi[j] -XijNew[j])\n",
    "         #EQ7FIN\n",
    "         #EQ8Début\n",
    "         if(objectiveFunction(XijNew) < objectiveFunction(X1[i])):\n",
    "            X1[i] = XijNew\n",
    "         #EQ8FIN\n",
    "         #EQ9Debut\n",
    "         R = 0.001 * (1-t/T)\n",
    "         #EQ9Fin\n",
    "         #EQ10Début\n",
    "         XijNew = []\n",
    "         for j in range(m):\n",
    "             XijNew.append(X1[i][j])\n",
    "         for j in range(m):\n",
    "             XijNew[j] = XijNew[j]+ (2*random.uniform(0,1)-1) * (R -XijNew[j])\n",
    "         if(objectiveFunction(XijNew)< objectiveFunction(X1[i])):\n",
    "            X1[i] = XijNew\n"
   ],
   "metadata": {
    "collapsed": false
   }
  },
  {
   "cell_type": "code",
   "execution_count": 26,
   "outputs": [],
   "source": [
    "for t in range(T):\n",
    "    for i in range(N):\n",
    "        Pr = random.uniform(0,1)\n",
    "        if(Pr < 0.5):\n",
    "         #EQ3Début\n",
    "         k = random.randint(0,N-1)\n",
    "         while k == i:\n",
    "             k = random.randint(0,N-1)\n",
    "         ci = X2[k]\n",
    "         #EQ\n",
    "        #EQ4Début\n",
    "         XijNew = []\n",
    "         for j in range(m):\n",
    "             XijNew.append(X2[i][j])\n",
    "         for j in range(m):\n",
    "             if(objectiveFunction(ci) < objectiveFunction(XijNew)):\n",
    "                 I = random.randint(1,2)\n",
    "                 XijNew[j] = XijNew[j]+ random.uniform(0,1) *(ci[j] - I *XijNew[j])\n",
    "             else:\n",
    "                 XijNew[j] = XijNew[j]+ random.uniform(0,1) *(ci[j] -XijNew[j])\n",
    "        #EQ4FIN\n",
    "        #EQ5Début\n",
    "        if(objectiveFunction(XijNew) < objectiveFunction(X2[i])):\n",
    "            X2[i] =XijNew\n",
    "        else:\n",
    "         #EQ6Début\n",
    "         k = random.randint(0,N-1)\n",
    "         while k == i:\n",
    "          k = random.randint(0,N-1)\n",
    "         pi = X2[k]\n",
    "         XijNew = []\n",
    "         #EQ7Début\n",
    "         for j in range(m):\n",
    "             XijNew.append(X2[i][j])\n",
    "         for j in range(m):\n",
    "             if(objectiveFunction(pi) < objectiveFunction(XijNew)):\n",
    "                 I = random.randint(1,2)\n",
    "                 XijNew[j] = XijNew[j]+ random.uniform(0,1) *(pi[j] - I *XijNew[j])\n",
    "             else:\n",
    "                 XijNew[j] = XijNew[j]+ random.uniform(0,1) *(pi[j] -XijNew[j])\n",
    "         #EQ7FIN\n",
    "         #EQ8Début\n",
    "         if(objectiveFunction(XijNew) < objectiveFunction(X2[i])):\n",
    "            X1[i] = XijNew\n",
    "         #EQ8FIN\n",
    "         #EQ9Debut\n",
    "         R = 0.001 * (1-t/T)\n",
    "         #EQ9Fin\n",
    "         #EQ10Début\n",
    "         XijNew = []\n",
    "         for j in range(m):\n",
    "             XijNew.append(X2[i][j])\n",
    "         for j in range(m):\n",
    "             XijNew[j] = XijNew[j]+ (2*random.uniform(0,1)-1) * (R -XijNew[j])\n",
    "         if(objectiveFunction(XijNew)< objectiveFunction(X2[i])):\n",
    "            X2[i] = XijNew"
   ],
   "metadata": {
    "collapsed": false
   }
  },
  {
   "cell_type": "code",
   "execution_count": 27,
   "outputs": [],
   "source": [
    "F = []\n",
    "for i in range(N):\n",
    "    F.append(objectiveFunction(X1[i]))\n",
    "centroidFalse = np.max(F)"
   ],
   "metadata": {
    "collapsed": false
   }
  },
  {
   "cell_type": "code",
   "execution_count": 28,
   "outputs": [],
   "source": [
    "F = []\n",
    "for i in range(N):\n",
    "    F.append(objectiveFunction(X2[i]))\n",
    "centroidTrue = np.max(F)"
   ],
   "metadata": {
    "collapsed": false
   }
  },
  {
   "cell_type": "code",
   "execution_count": 29,
   "outputs": [
    {
     "name": "stdout",
     "output_type": "stream",
     "text": [
      "(120, 11)\n"
     ]
    }
   ],
   "source": [
    "X = pd.read_excel('./test.xlsx',)\n",
    "X.drop(columns=[\"fake\"], inplace=True)\n",
    "X = np.array(X)\n",
    "print(X.shape)\n",
    "for i in range(len(X)):\n",
    "    X[i]=np.digitize(X[i],bins=[4])"
   ],
   "metadata": {
    "collapsed": false
   }
  },
  {
   "cell_type": "code",
   "execution_count": 30,
   "outputs": [],
   "source": [
    "\n",
    "for t in range(T):\n",
    "    for i in range(N):\n",
    "        Pr = random.uniform(0,1)\n",
    "        if(Pr < 0.5):\n",
    "         #EQ3Début\n",
    "         k = random.randint(0,N-1)\n",
    "         while k == i:\n",
    "             k = random.randint(0,N-1)\n",
    "         ci = X[k]\n",
    "         #EQ\n",
    "        #EQ4Début\n",
    "         XijNew = []\n",
    "         for j in range(m):\n",
    "             XijNew.append(X[i][j])\n",
    "         for j in range(m):\n",
    "             if(objectiveFunction(ci) < objectiveFunction(XijNew)):\n",
    "                 I = random.randint(1,2)\n",
    "                 XijNew[j] = XijNew[j]+ random.uniform(0,1) *(ci[j] - I *XijNew[j])\n",
    "             else:\n",
    "                 XijNew[j] = XijNew[j]+ random.uniform(0,1) *(ci[j] -XijNew[j])\n",
    "        #EQ4FIN\n",
    "        #EQ5Début\n",
    "        if(objectiveFunction(XijNew) < objectiveFunction(X[i])):\n",
    "            X[i] =XijNew\n",
    "        else:\n",
    "         #EQ6Début\n",
    "         k = random.randint(0,N-1)\n",
    "         while k == i:\n",
    "          k = random.randint(0,N-1)\n",
    "         pi = X[k]\n",
    "         XijNew = []\n",
    "         #EQ7Début\n",
    "         for j in range(m):\n",
    "             XijNew.append(X[i][j])\n",
    "         for j in range(m):\n",
    "             if(objectiveFunction(pi) < objectiveFunction(XijNew)):\n",
    "                 I = random.randint(1,2)\n",
    "                 XijNew[j] = XijNew[j]+ random.uniform(0,1) *(pi[j] - I *XijNew[j])\n",
    "             else:\n",
    "                 XijNew[j] = XijNew[j]+ random.uniform(0,1) *(pi[j] -XijNew[j])\n",
    "         #EQ7FIN\n",
    "         #EQ8Début\n",
    "         if(objectiveFunction(XijNew) < objectiveFunction(X[i])):\n",
    "            X[i] = XijNew\n",
    "         #EQ8FIN\n",
    "         #EQ9Debut\n",
    "         R = 0.001 * (1-t/T)\n",
    "         #EQ9Fin\n",
    "         #EQ10Début\n",
    "         XijNew = []\n",
    "         for j in range(m):\n",
    "             XijNew.append(X[i][j])\n",
    "         for j in range(m):\n",
    "             XijNew[j] = XijNew[j]+ (2*random.uniform(0,1)-1) * (R -XijNew[j])\n",
    "         if(objectiveFunction(XijNew)< objectiveFunction(X[i])):\n",
    "            X[i] = XijNew\n"
   ],
   "metadata": {
    "collapsed": false
   }
  },
  {
   "cell_type": "code",
   "execution_count": 31,
   "outputs": [],
   "source": [
    "trueValue = 0\n",
    "truePositive = 0\n",
    "trueNegative=0\n",
    "falsePositive = 0\n",
    "falseNegative = 0\n",
    "for i in range(len(X)):\n",
    "    if(abs(objectiveFunction(X[i])-centroidTrue)<abs(objectiveFunction(X[i])-centroidFalse)):\n",
    "        if i <= 61:\n",
    "            trueNegative = trueNegative+1\n",
    "        else:\n",
    "            falseNegative = falseNegative +1\n",
    "    else:\n",
    "        if i > 61:\n",
    "            truePositive = truePositive+1\n",
    "        else:\n",
    "            falsePositive = falsePositive+1\n"
   ],
   "metadata": {
    "collapsed": false
   }
  },
  {
   "cell_type": "code",
   "execution_count": 32,
   "outputs": [
    {
     "name": "stdout",
     "output_type": "stream",
     "text": [
      "Accurancy: 98.33%\n",
      "Precision: 0.9827586206896551\n",
      "Recall: 0.9827586206896551\n",
      "F_mesure: 0.9827586206896551\n"
     ]
    }
   ],
   "source": [
    "Accurancy = ((truePositive+trueNegative)/len(X))*100\n",
    "Precision =(truePositive)/(truePositive+falsePositive)\n",
    "Recall=  (truePositive)/(truePositive+falseNegative)\n",
    "F_mesure =(2*Precision*Recall)/(Precision+Recall)\n",
    "print(\"Accurancy: \"+str(Accurancy)[0:5]+\"%\")\n",
    "print(\"Precision: \"+str(Precision))\n",
    "print(\"Recall: \"+str(Recall))\n",
    "print(\"F_mesure: \"+str(F_mesure))"
   ],
   "metadata": {
    "collapsed": false
   }
  }
 ],
 "metadata": {
  "kernelspec": {
   "display_name": "Python 3",
   "language": "python",
   "name": "python3"
  },
  "language_info": {
   "codemirror_mode": {
    "name": "ipython",
    "version": 2
   },
   "file_extension": ".py",
   "mimetype": "text/x-python",
   "name": "python",
   "nbconvert_exporter": "python",
   "pygments_lexer": "ipython2",
   "version": "2.7.6"
  }
 },
 "nbformat": 4,
 "nbformat_minor": 0
}
