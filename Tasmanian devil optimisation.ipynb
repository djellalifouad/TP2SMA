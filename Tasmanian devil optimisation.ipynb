{
 "cells": [
  {
   "cell_type": "markdown",
   "source": [
    "Initialisation des paramétres et librairis nécessaires"
   ],
   "metadata": {
    "collapsed": false
   }
  },
  {
   "cell_type": "code",
   "execution_count": null,
   "outputs": [],
   "source": [
    "import numpy as np\n",
    "import random\n",
    "# Dimesion du probléme\n",
    "T =  500\n",
    "Dim = 30\n",
    "# Range\n",
    "Range  = [-100,100]\n",
    "# Nombre de tasmanian\n",
    "N = 10\n",
    "# Nombre de variable pour un probléme donnée\n",
    "m = 5"
   ],
   "metadata": {
    "collapsed": false
   }
  },
  {
   "cell_type": "markdown",
   "source": [
    "Déclaration de la fonction objective"
   ],
   "metadata": {
    "collapsed": false
   }
  },
  {
   "cell_type": "code",
   "execution_count": 20,
   "outputs": [],
   "source": [
    "# La fonction objective\n",
    "def objectiveFunction(X):\n",
    "    result = 0\n",
    "    for i in range(m-1):\n",
    "        result += X[i]**2\n",
    "    return result"
   ],
   "metadata": {
    "collapsed": false
   }
  },
  {
   "cell_type": "markdown",
   "source": [
    "Initialisation de la table X"
   ],
   "metadata": {
    "collapsed": false
   }
  },
  {
   "cell_type": "code",
   "execution_count": 21,
   "outputs": [
    {
     "name": "stdout",
     "output_type": "stream",
     "text": [
      "range(0, 10)\n",
      "[3670.1693459839444, 11251.738799430088, 8484.060750334083, 22279.980003380282, 11670.598111777455, 727.3428770934673, 9963.405700835825, 9896.21460150819, 12892.370679926205, 4011.4435405882473]\n"
     ]
    }
   ],
   "source": [
    "X = np.zeros( (N, m))\n",
    "#Initialiser la table X\n",
    "for i in range(N):\n",
    "    for j in range(m):\n",
    "        X[i][j] =random.uniform(Range[0],Range[1])\n",
    "#Initialiser la table F\n"
   ],
   "metadata": {
    "collapsed": false
   }
  },
  {
   "cell_type": "markdown",
   "source": [
    "Initilisation de la table F a l'aide de la fonction objective"
   ],
   "metadata": {
    "collapsed": false
   }
  },
  {
   "cell_type": "code",
   "execution_count": null,
   "outputs": [],
   "source": [
    "F = []\n",
    "for i in range(N):\n",
    "    F.append(objectiveFunction(X[i]))\n",
    "print(F)"
   ],
   "metadata": {
    "collapsed": false
   }
  },
  {
   "cell_type": "markdown",
   "source": [
    "Exécuter les l'algotithme tasmanian avec les différents équations"
   ],
   "metadata": {
    "collapsed": false
   }
  },
  {
   "cell_type": "code",
   "execution_count": 22,
   "outputs": [],
   "source": [
    "\n",
    "for t in range(T):\n",
    "    for i in range(N):\n",
    "        Pr = random.uniform(0,1)\n",
    "        if(Pr < 0.5):\n",
    "         #EQ3Début\n",
    "         k = random.randint(0,N-1)\n",
    "         while k == i:\n",
    "             k = random.randint(0,N-1)\n",
    "         ci = X[k]\n",
    "         #EQ\n",
    "        #EQ4Début\n",
    "         XijNew = []\n",
    "         for j in range(m):\n",
    "             XijNew.append(X[k][j])\n",
    "         for j in range(m):\n",
    "             if(objectiveFunction(ci) < objectiveFunction(XijNew)):\n",
    "                 I = random.randint(1,2)\n",
    "                 XijNew[j] = XijNew[j]+ random.uniform(0,1) *(ci[j] - I *XijNew[j])\n",
    "             else:\n",
    "                 XijNew[j] = XijNew[j]+ random.uniform(0,1) *(ci[j] -XijNew[j])\n",
    "        #EQ4FIN\n",
    "        #EQ5Début\n",
    "        if(objectiveFunction(XijNew) < objectiveFunction(X[k]) ):\n",
    "            X[i] =XijNew\n",
    "        else:\n",
    "         #EQ6Début\n",
    "         k = random.randint(0,N-1)\n",
    "         while k == i:\n",
    "          k = random.randint(0,N-1)\n",
    "         pi = X[k]\n",
    "         XijNew = []\n",
    "         #EQ7Début\n",
    "         for j in range(m):\n",
    "             XijNew.append(X[i][j])\n",
    "         for j in range(m):\n",
    "             if(objectiveFunction(pi) < objectiveFunction(XijNew)):\n",
    "                 I = random.randint(1,2)\n",
    "                 XijNew[j] = XijNew[j]+ random.uniform(0,1) *(pi[j] - I *XijNew[j])\n",
    "             else:\n",
    "                 XijNew[j] = XijNew[j]+ random.uniform(0,1) *(pi[j] -XijNew[j])\n",
    "         #EQ7FIN\n",
    "         #EQ8Début\n",
    "         if(objectiveFunction(XijNew) < objectiveFunction(X[k])):\n",
    "            X[k] = XijNew\n",
    "         #EQ8FIN\n",
    "         #EQ9Debut\n",
    "         R = 0.001 * (1-t/T)\n",
    "         #EQ9Fin\n",
    "         #EQ10Début\n",
    "         XijNew = []\n",
    "         for j in range(m):\n",
    "             XijNew.append(X[i][j])\n",
    "         for j in range(m):\n",
    "             XijNew[j] = XijNew[j]+ (2*random.uniform(0,1)-1) * (R -XijNew[j])\n",
    "         if(objectiveFunction(XijNew) < objectiveFunction(X[k])):\n",
    "            X[k] = XijNew"
   ],
   "metadata": {
    "collapsed": false
   }
  },
  {
   "cell_type": "markdown",
   "source": [
    "Afficher les résultas"
   ],
   "metadata": {
    "collapsed": false
   }
  },
  {
   "cell_type": "code",
   "execution_count": 23,
   "outputs": [
    {
     "name": "stdout",
     "output_type": "stream",
     "text": [
      "[[-1.43669427e-50 -8.07131361e-52  1.53368427e-50  2.92123483e-51\n",
      "  -7.77576023e+00]\n",
      " [-1.20087133e-50 -1.08642496e-50 -1.68217701e-50  5.56558369e-51\n",
      "  -7.77576023e+00]\n",
      " [-8.33187788e-51 -4.62918810e-51  3.61778685e-50 -5.02057501e-51\n",
      "  -7.77576023e+00]\n",
      " [-2.99648776e-50 -1.76267755e-50  1.97386071e-50  1.65920968e-50\n",
      "  -7.77576023e+00]\n",
      " [-3.11802825e-51 -1.74530614e-50  9.49608819e-51  5.44031309e-51\n",
      "  -7.77576023e+00]\n",
      " [-1.25027853e-50 -3.68166027e-50  7.33386499e-52  9.51895653e-51\n",
      "  -7.77576023e+00]\n",
      " [-1.19713127e-50 -2.48149401e-50  2.12043797e-50  6.99694822e-51\n",
      "  -7.77576023e+00]\n",
      " [-1.33576889e-50 -1.88272476e-50  2.83057239e-50  4.97220738e-51\n",
      "  -7.77576023e+00]\n",
      " [-1.20680013e-50 -3.73543018e-50  2.58657054e-50  2.62838064e-50\n",
      "  -7.77576023e+00]\n",
      " [-1.44248584e-50 -1.94495661e-50  1.92314380e-50  1.33656351e-50\n",
      "  -7.77576023e+00]]\n"
     ]
    }
   ],
   "source": [
    "print(X)"
   ],
   "metadata": {
    "collapsed": false
   }
  },
  {
   "cell_type": "markdown",
   "source": [
    "Afficher les meilleurs résultas"
   ],
   "metadata": {
    "collapsed": false
   }
  },
  {
   "cell_type": "code",
   "execution_count": 24,
   "outputs": [
    {
     "name": "stdout",
     "output_type": "stream",
     "text": [
      "[4.5081286116957687e-100, 5.761887851642419e-100, 1.4248939175100424e-99, 1.8735073908221786e-99, 4.3410415117149034e-100, 1.6029302636120854e-99, 1.2576765807434283e-99, 1.358829954872724e-99, 2.900853710117376e-99, 1.1348505705712771e-99]\n",
      "the best member candidat is8\n"
     ]
    }
   ],
   "source": [
    "F = []\n",
    "for i in range(N):\n",
    "    F.append(objectiveFunction(X[i]))\n",
    "print(F)\n",
    "\n",
    "print(\"the best member candidat is\" +str(np.argmax(F)))"
   ],
   "metadata": {
    "collapsed": false
   }
  }
 ],
 "metadata": {
  "kernelspec": {
   "display_name": "Python 3",
   "language": "python",
   "name": "python3"
  },
  "language_info": {
   "codemirror_mode": {
    "name": "ipython",
    "version": 2
   },
   "file_extension": ".py",
   "mimetype": "text/x-python",
   "name": "python",
   "nbconvert_exporter": "python",
   "pygments_lexer": "ipython2",
   "version": "2.7.6"
  }
 },
 "nbformat": 4,
 "nbformat_minor": 0
}
